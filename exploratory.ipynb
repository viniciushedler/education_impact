{
 "cells": [
  {
   "attachments": {},
   "cell_type": "markdown",
   "metadata": {},
   "source": [
    "# Data Exploration\n",
    "\n",
    "This is the first part of the project, where I explore and understand the basics of the data"
   ]
  },
  {
   "attachments": {},
   "cell_type": "markdown",
   "metadata": {},
   "source": [
    "## Imports"
   ]
  },
  {
   "cell_type": "code",
   "execution_count": 1,
   "metadata": {},
   "outputs": [],
   "source": [
    "import pandas as pd"
   ]
  },
  {
   "attachments": {},
   "cell_type": "markdown",
   "metadata": {},
   "source": [
    "## Loading data"
   ]
  },
  {
   "cell_type": "code",
   "execution_count": 8,
   "metadata": {},
   "outputs": [],
   "source": [
    "# This is the cell for defining constants used throughout the notebook\n",
    "\n",
    "# Data path\n",
    "PATH = 'data/'\n",
    "\n",
    "# Files\n",
    "FILEPATHS = {\n",
    "    'consumer_price_index' : 'SYB65_128_202209_Consumer Price Index.csv',\n",
    "    'employment' : 'SYB65_200_202209_Employment.csv',\n",
    "    'gdp' : 'SYB65_230_202209_GDP and GDP Per Capita.csv',\n",
    "    'education_expenditure' : 'SYB65_245_202209_Public expenditure on education.csv',\n",
    "    'research' : 'SYB65_285_202209_Research and Development Staff.csv',\n",
    "    'education' : 'SYB65_309_202209_Education.csv',\n",
    "    'teaching_staff' : 'SYB65_323_202209_Teaching Staff in education.csv',\n",
    "    'crimes' : 'SYB65_328_202209_Intentional homicides and other crimes.csv',\n",
    "    'labour_force_and_unemployment' : 'SYB65_329_202209_Labour Force and Unemployment.csv'\n",
    "}\n",
    "\n",
    "# Amount of rows read from each file\n",
    "NROWS = 10000"
   ]
  },
  {
   "attachments": {},
   "cell_type": "markdown",
   "metadata": {},
   "source": [
    "## Getting columns\n",
    "Here I get the columns of every file"
   ]
  },
  {
   "cell_type": "code",
   "execution_count": 10,
   "metadata": {},
   "outputs": [
    {
     "name": "stdout",
     "output_type": "stream",
     "text": [
      "['T20', 'Consumer Price Index', 'Unnamed: 2', 'Unnamed: 3', 'Unnamed: 4', 'Unnamed: 5', 'Unnamed: 6']\n",
      "['T19', 'Employment by economic activity', 'Unnamed: 2', 'Unnamed: 3', 'Unnamed: 4', 'Unnamed: 5', 'Unnamed: 6']\n",
      "['T14', 'Gross domestic product and gross domestic product per capita', 'Unnamed: 2', 'Unnamed: 3', 'Unnamed: 4', 'Unnamed: 5', 'Unnamed: 6']\n",
      "['T10', 'Public Expenditure on Education (2021)', 'Unnamed: 2', 'Unnamed: 3', 'Unnamed: 4', 'Unnamed: 5', 'Unnamed: 6']\n",
      "['T26', 'Population employed in research and development (R&D)', 'Unnamed: 2', 'Unnamed: 3', 'Unnamed: 4', 'Unnamed: 5', 'Unnamed: 6']\n",
      "['T08', 'Enrolment in primary, secondary and tertiary education levels', 'Unnamed: 2', 'Unnamed: 3', 'Unnamed: 4', 'Unnamed: 5', 'Unnamed: 6']\n",
      "['T09', 'Teaching staff at the primary, secondary and upper secondary levels', 'Unnamed: 2', 'Unnamed: 3', 'Unnamed: 4', 'Unnamed: 5', 'Unnamed: 6']\n",
      "['T13', 'Intentional homicides and other crimes', 'Unnamed: 2', 'Unnamed: 3', 'Unnamed: 4', 'Unnamed: 5', 'Unnamed: 6']\n",
      "['T18', 'Labour force participation and unemployment', 'Unnamed: 2', 'Unnamed: 3', 'Unnamed: 4', 'Unnamed: 5', 'Unnamed: 6']\n"
     ]
    }
   ],
   "source": [
    "for file in FILEPATHS.values():\n",
    "    filepath = PATH + file\n",
    "    df = pd.read_csv(filepath, nrows=1)\n",
    "    print(list(df.columns))\n",
    "    "
   ]
  },
  {
   "attachments": {},
   "cell_type": "markdown",
   "metadata": {},
   "source": [
    "After manually analysing the data, I found out that the first row of the data is somewhat the title of the file, so we just ignore the first row"
   ]
  },
  {
   "cell_type": "code",
   "execution_count": 11,
   "metadata": {},
   "outputs": [
    {
     "name": "stdout",
     "output_type": "stream",
     "text": [
      "['Region/Country/Area', 'Unnamed: 1', 'Year', 'Series', 'Value', 'Footnotes', 'Source']\n",
      "['Region/Country/Area', 'Unnamed: 1', 'Year', 'Series', 'Value', 'Footnotes', 'Source']\n",
      "['Region/Country/Area', 'Unnamed: 1', 'Year', 'Series', 'Value', 'Footnotes', 'Source']\n",
      "['Region/Country/Area', 'Unnamed: 1', 'Year', 'Series', 'Value', 'Footnotes', 'Source']\n",
      "['Region/Country/Area', 'Unnamed: 1', 'Year', 'Series', 'Value', 'Footnotes', 'Source']\n",
      "['Region/Country/Area', 'Unnamed: 1', 'Year', 'Series', 'Value', 'Footnotes', 'Source']\n",
      "['Region/Country/Area', 'Unnamed: 1', 'Year', 'Series', 'Value', 'Footnotes', 'Source']\n",
      "['Region/Country/Area', 'Unnamed: 1', 'Year', 'Series', 'Value', 'Footnotes', 'Source']\n",
      "['Region/Country/Area', 'Unnamed: 1', 'Year', 'Series', 'Value', 'Footnotes', 'Source']\n"
     ]
    }
   ],
   "source": [
    "for file in FILEPATHS.values():\n",
    "    filepath = PATH + file\n",
    "    df = pd.read_csv(filepath, nrows=1, skiprows=1)\n",
    "    print(list(df.columns))"
   ]
  },
  {
   "attachments": {},
   "cell_type": "markdown",
   "metadata": {},
   "source": [
    "While analysing why the 'Unnamed: 1' column, found out that the first and second column labels are swapped, with the first column being the index and the second column being the 'Region/Country/Area'. Luckily, that's an easy fix\n",
    "\n",
    "Correction: actually, the data is formated in a very different way, with the 'column name' being in the column 'series'. I'm not sure anymore of how easy this is to fix"
   ]
  }
 ],
 "metadata": {
  "kernelspec": {
   "display_name": "Python 3",
   "language": "python",
   "name": "python3"
  },
  "language_info": {
   "codemirror_mode": {
    "name": "ipython",
    "version": 3
   },
   "file_extension": ".py",
   "mimetype": "text/x-python",
   "name": "python",
   "nbconvert_exporter": "python",
   "pygments_lexer": "ipython3",
   "version": "3.10.10"
  },
  "orig_nbformat": 4
 },
 "nbformat": 4,
 "nbformat_minor": 2
}
