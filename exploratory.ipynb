{
 "cells": [
  {
   "attachments": {},
   "cell_type": "markdown",
   "metadata": {},
   "source": [
    "# Data Exploration\n",
    "\n",
    "This is the first part of the project, where I explore and understand the basics of the data"
   ]
  },
  {
   "attachments": {},
   "cell_type": "markdown",
   "metadata": {},
   "source": [
    "## Imports"
   ]
  },
  {
   "cell_type": "code",
   "execution_count": 1,
   "metadata": {},
   "outputs": [],
   "source": [
    "import pandas as pd"
   ]
  },
  {
   "attachments": {},
   "cell_type": "markdown",
   "metadata": {},
   "source": [
    "## Loading data"
   ]
  },
  {
   "cell_type": "code",
   "execution_count": 2,
   "metadata": {},
   "outputs": [],
   "source": [
    "# This is the cell for defining constants used throughout the notebook\n",
    "\n",
    "# Data path\n",
    "PATH = 'data/'\n",
    "\n",
    "# Files\n",
    "FILEPATHS = {\n",
    "    'consumer_price_index' : 'SYB65_128_202209_Consumer Price Index.csv',\n",
    "    'employment' : 'SYB65_200_202209_Employment.csv',\n",
    "    'gdp' : 'SYB65_230_202209_GDP and GDP Per Capita.csv',\n",
    "    'education_expenditure' : 'SYB65_245_202209_Public expenditure on education.csv',\n",
    "    'research' : 'SYB65_285_202209_Research and Development Staff.csv',\n",
    "    'education' : 'SYB65_309_202209_Education.csv',\n",
    "    'teaching_staff' : 'SYB65_323_202209_Teaching Staff in education.csv',\n",
    "    'crimes' : 'SYB65_328_202209_Intentional homicides and other crimes.csv',\n",
    "    'labour_force_and_unemployment' : 'SYB65_329_202209_Labour Force and Unemployment.csv'\n",
    "}\n",
    "\n",
    "# Amount of rows read from each file\n",
    "NROWS = 10000\n",
    "\n",
    "SKIPPED_SERIES = [\n",
    "    \n",
    "]"
   ]
  },
  {
   "attachments": {},
   "cell_type": "markdown",
   "metadata": {},
   "source": [
    "## Getting columns\n",
    "Here I get the columns of every file"
   ]
  },
  {
   "cell_type": "code",
   "execution_count": 3,
   "metadata": {},
   "outputs": [
    {
     "name": "stdout",
     "output_type": "stream",
     "text": [
      "['T20', 'Consumer Price Index', 'Unnamed: 2', 'Unnamed: 3', 'Unnamed: 4', 'Unnamed: 5', 'Unnamed: 6']\n",
      "['T19', 'Employment by economic activity', 'Unnamed: 2', 'Unnamed: 3', 'Unnamed: 4', 'Unnamed: 5', 'Unnamed: 6']\n",
      "['T14', 'Gross domestic product and gross domestic product per capita', 'Unnamed: 2', 'Unnamed: 3', 'Unnamed: 4', 'Unnamed: 5', 'Unnamed: 6']\n",
      "['T10', 'Public Expenditure on Education (2021)', 'Unnamed: 2', 'Unnamed: 3', 'Unnamed: 4', 'Unnamed: 5', 'Unnamed: 6']\n",
      "['T26', 'Population employed in research and development (R&D)', 'Unnamed: 2', 'Unnamed: 3', 'Unnamed: 4', 'Unnamed: 5', 'Unnamed: 6']\n",
      "['T08', 'Enrolment in primary, secondary and tertiary education levels', 'Unnamed: 2', 'Unnamed: 3', 'Unnamed: 4', 'Unnamed: 5', 'Unnamed: 6']\n",
      "['T09', 'Teaching staff at the primary, secondary and upper secondary levels', 'Unnamed: 2', 'Unnamed: 3', 'Unnamed: 4', 'Unnamed: 5', 'Unnamed: 6']\n",
      "['T13', 'Intentional homicides and other crimes', 'Unnamed: 2', 'Unnamed: 3', 'Unnamed: 4', 'Unnamed: 5', 'Unnamed: 6']\n",
      "['T18', 'Labour force participation and unemployment', 'Unnamed: 2', 'Unnamed: 3', 'Unnamed: 4', 'Unnamed: 5', 'Unnamed: 6']\n"
     ]
    }
   ],
   "source": [
    "for file in FILEPATHS.values():\n",
    "    filepath = PATH + file\n",
    "    df = pd.read_csv(filepath, nrows=1)\n",
    "    print(list(df.columns))\n",
    "    "
   ]
  },
  {
   "attachments": {},
   "cell_type": "markdown",
   "metadata": {},
   "source": [
    "After manually analysing the data, I found out that the first row of the data is somewhat the title of the file, so we just ignore the first row"
   ]
  },
  {
   "cell_type": "code",
   "execution_count": 4,
   "metadata": {},
   "outputs": [
    {
     "name": "stdout",
     "output_type": "stream",
     "text": [
      "['Region/Country/Area', 'Unnamed: 1', 'Year', 'Series', 'Value', 'Footnotes', 'Source']\n",
      "['Region/Country/Area', 'Unnamed: 1', 'Year', 'Series', 'Value', 'Footnotes', 'Source']\n",
      "['Region/Country/Area', 'Unnamed: 1', 'Year', 'Series', 'Value', 'Footnotes', 'Source']\n",
      "['Region/Country/Area', 'Unnamed: 1', 'Year', 'Series', 'Value', 'Footnotes', 'Source']\n",
      "['Region/Country/Area', 'Unnamed: 1', 'Year', 'Series', 'Value', 'Footnotes', 'Source']\n",
      "['Region/Country/Area', 'Unnamed: 1', 'Year', 'Series', 'Value', 'Footnotes', 'Source']\n",
      "['Region/Country/Area', 'Unnamed: 1', 'Year', 'Series', 'Value', 'Footnotes', 'Source']\n",
      "['Region/Country/Area', 'Unnamed: 1', 'Year', 'Series', 'Value', 'Footnotes', 'Source']\n",
      "['Region/Country/Area', 'Unnamed: 1', 'Year', 'Series', 'Value', 'Footnotes', 'Source']\n"
     ]
    }
   ],
   "source": [
    "for file in FILEPATHS.values():\n",
    "    filepath = PATH + file\n",
    "    df = pd.read_csv(filepath, nrows=1, skiprows=1)\n",
    "    print(list(df.columns))"
   ]
  },
  {
   "attachments": {},
   "cell_type": "markdown",
   "metadata": {},
   "source": [
    "While analysing why the 'Unnamed: 1' column, found out that the first and second column labels are connected, with the first column being the region index and the second column being the 'Region/Country/Area' name\n",
    "\n",
    "Correction: actually, the data is formated in a very different way, with the 'column name' being in the column 'series'. I'm not sure anymore of how easy this is to fix. However, we don't need to fix it just yet, we can first look at how many unique values are in the column 'series'"
   ]
  },
  {
   "cell_type": "code",
   "execution_count": 5,
   "metadata": {},
   "outputs": [
    {
     "name": "stdout",
     "output_type": "stream",
     "text": [
      "Consumer Price Index.csv: 2\n",
      "Employment.csv: 9\n",
      "GDP and GDP Per Capita.csv: 4\n",
      "Public expenditure on education.csv: 7\n",
      "Research and Development Staff.csv: 7\n",
      "Education.csv: 9\n",
      "Teaching Staff in education.csv: 6\n",
      "Intentional homicides and other crimes.csv: 8\n",
      "Labour Force and Unemployment.csv: 6\n"
     ]
    }
   ],
   "source": [
    "for file in FILEPATHS.values():\n",
    "    filepath = PATH + file\n",
    "    df = pd.read_csv(filepath, skiprows=1, usecols=['Series'])\n",
    "    print(f\"{file[17:]}: {len(df['Series'].unique())}\")"
   ]
  },
  {
   "attachments": {},
   "cell_type": "markdown",
   "metadata": {},
   "source": [
    "Now for what such values are:"
   ]
  },
  {
   "cell_type": "code",
   "execution_count": 6,
   "metadata": {},
   "outputs": [],
   "source": [
    "def get_dataset_values(file):\n",
    "    filepath = PATH + FILEPATHS[file]\n",
    "    df = pd.read_csv(filepath, skiprows=1, usecols=['Series'])\n",
    "    print(f'{file}:')\n",
    "    for item in df['Series'].unique():\n",
    "        print(f'    {item}')"
   ]
  },
  {
   "cell_type": "code",
   "execution_count": 7,
   "metadata": {},
   "outputs": [
    {
     "name": "stdout",
     "output_type": "stream",
     "text": [
      "consumer_price_index:\n",
      "    Consumer price index: General\n",
      "    Consumer price index: Food\n"
     ]
    }
   ],
   "source": [
    "# Consumer Price Index\n",
    "get_dataset_values('consumer_price_index')"
   ]
  },
  {
   "cell_type": "code",
   "execution_count": 8,
   "metadata": {},
   "outputs": [
    {
     "name": "stdout",
     "output_type": "stream",
     "text": [
      "employment:\n",
      "    Employment by industry: Agriculture (%) Male and Female\n",
      "    Employment by industry: Industry (%) Male and Female\n",
      "    Employment by industry: Services (%) Male and Female\n",
      "    Employment by industry: Agriculture (%) Male\n",
      "    Employment by industry: Industry (%) Male\n",
      "    Employment by industry: Services (%) Male\n",
      "    Employment by industry: Agriculture (%) Female\n",
      "    Employment by industry: Industry (%) Female\n",
      "    Employment by industry: Services (%) Female\n"
     ]
    }
   ],
   "source": [
    "# Employment\n",
    "get_dataset_values('employment')"
   ]
  },
  {
   "cell_type": "code",
   "execution_count": 9,
   "metadata": {},
   "outputs": [
    {
     "name": "stdout",
     "output_type": "stream",
     "text": [
      "gdp:\n",
      "    GDP in current prices (millions of US dollars)\n",
      "    GDP per capita (US dollars)\n",
      "    GDP in constant 2010 prices (millions of US dollars)\n",
      "    GDP real rates of growth (percent)\n"
     ]
    }
   ],
   "source": [
    "# GDP and GDP per Capita\n",
    "get_dataset_values('gdp')"
   ]
  },
  {
   "cell_type": "code",
   "execution_count": 10,
   "metadata": {},
   "outputs": [
    {
     "name": "stdout",
     "output_type": "stream",
     "text": [
      "education_expenditure:\n",
      "    Current expenditure other than staff compensation as % of total expenditure in public institutions (%)\n",
      "    All staff compensation as % of total expenditure in public institutions (%)\n",
      "    Capital expenditure as % of total expenditure in public institutions (%)\n",
      "    Public expenditure on education (% of GDP)\n",
      "    Basic access to computers by level of education: Primary\n",
      "    Basic access to computers by level of education: Lower secondary\n",
      "    Basic access to computers by level of education: Upper secondary\n"
     ]
    }
   ],
   "source": [
    "# Consumer Price Index\n",
    "get_dataset_values('education_expenditure')"
   ]
  },
  {
   "cell_type": "code",
   "execution_count": 11,
   "metadata": {},
   "outputs": [
    {
     "name": "stdout",
     "output_type": "stream",
     "text": [
      "research:\n",
      "    R & D personnel: Total (number in full-time equivalent)\n",
      "    R & D personnel: Researchers - total (number in full-time equivalent)\n",
      "    R & D personnel: Researchers - women (number in full-time equivalent)\n",
      "    R & D personnel: Technicians - total (number in full-time equivalent)\n",
      "    R & D personnel: Other supporting staff - total (number in full-time equivalent)\n",
      "    R & D personnel: Technicians - women (number in full-time equivalent)\n",
      "    R & D personnel: Other supporting staff - women (number in full-time equivalent)\n"
     ]
    }
   ],
   "source": [
    "# Research\n",
    "get_dataset_values('research')"
   ]
  },
  {
   "cell_type": "code",
   "execution_count": 12,
   "metadata": {},
   "outputs": [
    {
     "name": "stdout",
     "output_type": "stream",
     "text": [
      "education:\n",
      "    Students enrolled in primary education (thousands)\n",
      "    Gross enrollment ratio - Primary (male)\n",
      "    Gross enrollment ratio - Primary (female)\n",
      "    Students enrolled in secondary education (thousands)\n",
      "    Gross enrollment ratio - Secondary (male)\n",
      "    Gross enrollment ratio - Secondary (female)\n",
      "    Students enrolled in upper secondary education (thousands)\n",
      "    Gross enrollment ratio - Upper secondary level (male)\n",
      "    Gross enrollment ratio - Upper secondary level (female)\n"
     ]
    }
   ],
   "source": [
    "# Education\n",
    "get_dataset_values('education')"
   ]
  },
  {
   "cell_type": "code",
   "execution_count": 13,
   "metadata": {},
   "outputs": [
    {
     "name": "stdout",
     "output_type": "stream",
     "text": [
      "teaching_staff:\n",
      "    Teachers at primary level (thousands)\n",
      "    Teachers at secondary level (thousands)\n",
      "    Teachers at upper secondary level (thousands)\n",
      "    Teachers with minimum required qualifications at primary level\n",
      "    Teachers with minimum required qualifications at secondary level\n",
      "    Teachers with minimum required qualifications at upper secondary level\n"
     ]
    }
   ],
   "source": [
    "# Teaching Staff\n",
    "get_dataset_values('teaching_staff')"
   ]
  },
  {
   "cell_type": "code",
   "execution_count": 14,
   "metadata": {},
   "outputs": [
    {
     "name": "stdout",
     "output_type": "stream",
     "text": [
      "crimes:\n",
      "    Intentional homicide rates per 100,000\n",
      "    Percentage of male and female intentional homicide victims, Male\n",
      "    Percentage of male and female intentional homicide victims, Female\n",
      "    Assault rate per 100,000 population\n",
      "    Theft at the national level, rate per 100,000 population\n",
      "    Robbery at the national level, rate per 100,000 population\n",
      "    Total Sexual Violence at the national level, rate per 100,000\n",
      "    Kidnapping at the national level, rate per 100,000\n"
     ]
    }
   ],
   "source": [
    "# Crimes\n",
    "get_dataset_values('crimes')"
   ]
  },
  {
   "cell_type": "code",
   "execution_count": 15,
   "metadata": {},
   "outputs": [
    {
     "name": "stdout",
     "output_type": "stream",
     "text": [
      "labour_force_and_unemployment:\n",
      "    Labour force participation - Total\n",
      "    Unemployment rate - Total\n",
      "    Labour force participation - Male\n",
      "    Unemployment rate - Male\n",
      "    Labour force participation - Female\n",
      "    Unemployment rate - Female\n"
     ]
    }
   ],
   "source": [
    "# Labour Force and Unemployement\n",
    "get_dataset_values('labour_force_and_unemployment')"
   ]
  },
  {
   "cell_type": "code",
   "execution_count": 16,
   "metadata": {},
   "outputs": [],
   "source": [
    "used_series = [\n",
    "    'Consumer price index: General',\n",
    "    'Consumer price index: Food',\n",
    "    'Employment by industry: Agriculture (%) Male and Female',\n",
    "    'Employment by industry: Industry (%) Male and Female',\n",
    "    'Employment by industry: Services (%) Male and Female',\n",
    "    'GDP in current prices (millions of US dollars)',\n",
    "    'GDP per capita (US dollars)',\n",
    "    'GDP in constant 2010 prices (millions of US dollars)',\n",
    "    'GDP real rates of growth (percent)',\n",
    "    'Current expenditure other than staff compensation as % of total expenditure in public institutions (%)',\n",
    "    'All staff compensation as % of total expenditure in public institutions (%)',\n",
    "    'Capital expenditure as % of total expenditure in public institutions (%)',\n",
    "    'Public expenditure on education (% of GDP)',\n",
    "    'Basic access to computers by level of education: Primary',\n",
    "    'Basic access to computers by level of education: Lower secondary',\n",
    "    'Basic access to computers by level of education: Upper secondary',\n",
    "    'R & D personnel: Total (number in full-time equivalent)',\n",
    "    'R & D personnel: Researchers - total (number in full-time equivalent)',\n",
    "    'R & D personnel: Researchers - women (number in full-time equivalent)',\n",
    "    'R & D personnel: Technicians - total (number in full-time equivalent)',\n",
    "    'R & D personnel: Other supporting staff - total (number in full-time equivalent)',\n",
    "    'R & D personnel: Technicians - women (number in full-time equivalent)',\n",
    "    'R & D personnel: Other supporting staff - women (number in full-time equivalent)',\n",
    "    'Students enrolled in primary education (thousands)',\n",
    "    'Gross enrollment ratio - Primary (male)',\n",
    "    'Gross enrollment ratio - Primary (female)',\n",
    "    'Students enrolled in secondary education (thousands)',\n",
    "    'Gross enrollment ratio - Secondary (male)',\n",
    "    'Gross enrollment ratio - Secondary (female)',\n",
    "    'Students enrolled in upper secondary education (thousands)',\n",
    "    'Gross enrollment ratio - Upper secondary level (male)',\n",
    "    'Gross enrollment ratio - Upper secondary level (female)',\n",
    "    'Teachers at primary level (thousands)',\n",
    "    'Teachers at secondary level (thousands)',\n",
    "    'Teachers at upper secondary level (thousands)',\n",
    "    'Teachers with minimum required qualifications at primary level',\n",
    "    'Teachers with minimum required qualifications at secondary level',\n",
    "    'Teachers with minimum required qualifications at upper secondary level',\n",
    "    'Intentional homicide rates per 100,000',\n",
    "    'Assault rate per 100,000 population',\n",
    "    'Theft at the national level, rate per 100,000 population',\n",
    "    'Robbery at the national level, rate per 100,000 population',\n",
    "    'Total Sexual Violence at the national level, rate per 100,000',\n",
    "    'Kidnapping at the national level, rate per 100,000',\n",
    "    'Labour force participation - Total',\n",
    "    'Unemployment rate - Total',\n",
    "]"
   ]
  },
  {
   "attachments": {},
   "cell_type": "markdown",
   "metadata": {},
   "source": [
    "So basically every dataset has the following columns:\n",
    "\n",
    "* 'Region/Country/Area': index\n",
    "* 'Unnamed: 1': the region, country or area of the data\n",
    "* 'Year': the year of the data\n",
    "* 'Series': what the data is about\n",
    "* 'Value': the data\n",
    "* 'Footnotes': some observations\n",
    "* 'Source': information about the source\n",
    "\n",
    "We want to:\n",
    "* Set the first column as the index and the second column as 'Region/Country/Area'\n",
    "* Filter only the series values we want\n",
    "    - For now we'll be ignoring the male/female aspect of data, as it can increase up to threefold the ammount of columns in some datasets\n",
    "* Change the label of the 'Values' column to be the value from the 'Series' column\n",
    "* Remove unwanted columns:\n",
    "    - Footnotes\n",
    "    - Source\n",
    "    - Series\n",
    "* Merge it all in one dataframe with:\n",
    "    - Index\n",
    "    - Region/Country/Area\n",
    "    - Year\n",
    "    - The values, labeled accordingly to the series they belong\n",
    "* Save it to pickle"
   ]
  },
  {
   "cell_type": "code",
   "execution_count": 250,
   "metadata": {},
   "outputs": [],
   "source": [
    "def delete_comma(data):\n",
    "    data = str(data)\n",
    "    data = data.replace(',', '')\n",
    "    data = float(data)\n",
    "    return data"
   ]
  },
  {
   "cell_type": "code",
   "execution_count": 272,
   "metadata": {},
   "outputs": [],
   "source": [
    "def read_file(file):\n",
    "    filepath = PATH + FILEPATHS[file]\n",
    "    df = pd.read_csv(filepath, skiprows=1, usecols=['Unnamed: 1', 'Year', 'Series', 'Value'])\n",
    "    df = df.rename({'Unnamed: 1': 'Country'}, axis=1)\n",
    "    df['Value'] = df['Value'].map(delete_comma)\n",
    "    df = df.join(df.pivot(columns='Series', values='Value'))\n",
    "    df = df.drop(['Value', 'Series'], axis=1)\n",
    "    df = df.groupby(['Country', 'Year'])\n",
    "    df = df.sum(min_count=1, numeric_only=True)\n",
    "    df = df.reset_index()\n",
    "    return df\n",
    "    "
   ]
  },
  {
   "cell_type": "code",
   "execution_count": 273,
   "metadata": {},
   "outputs": [
    {
     "data": {
      "text/html": [
       "<div>\n",
       "<style scoped>\n",
       "    .dataframe tbody tr th:only-of-type {\n",
       "        vertical-align: middle;\n",
       "    }\n",
       "\n",
       "    .dataframe tbody tr th {\n",
       "        vertical-align: top;\n",
       "    }\n",
       "\n",
       "    .dataframe thead th {\n",
       "        text-align: right;\n",
       "    }\n",
       "</style>\n",
       "<table border=\"1\" class=\"dataframe\">\n",
       "  <thead>\n",
       "    <tr style=\"text-align: right;\">\n",
       "      <th></th>\n",
       "      <th>Country</th>\n",
       "      <th>Year</th>\n",
       "      <th>Consumer price index: Food</th>\n",
       "      <th>Consumer price index: General</th>\n",
       "    </tr>\n",
       "  </thead>\n",
       "  <tbody>\n",
       "    <tr>\n",
       "      <th>161</th>\n",
       "      <td>Brazil</td>\n",
       "      <td>2000</td>\n",
       "      <td>NaN</td>\n",
       "      <td>52.5</td>\n",
       "    </tr>\n",
       "    <tr>\n",
       "      <th>162</th>\n",
       "      <td>Brazil</td>\n",
       "      <td>2005</td>\n",
       "      <td>NaN</td>\n",
       "      <td>79.5</td>\n",
       "    </tr>\n",
       "    <tr>\n",
       "      <th>163</th>\n",
       "      <td>Brazil</td>\n",
       "      <td>2010</td>\n",
       "      <td>100.0</td>\n",
       "      <td>100.0</td>\n",
       "    </tr>\n",
       "    <tr>\n",
       "      <th>164</th>\n",
       "      <td>Brazil</td>\n",
       "      <td>2015</td>\n",
       "      <td>154.4</td>\n",
       "      <td>138.4</td>\n",
       "    </tr>\n",
       "    <tr>\n",
       "      <th>165</th>\n",
       "      <td>Brazil</td>\n",
       "      <td>2019</td>\n",
       "      <td>185.4</td>\n",
       "      <td>167.4</td>\n",
       "    </tr>\n",
       "    <tr>\n",
       "      <th>166</th>\n",
       "      <td>Brazil</td>\n",
       "      <td>2020</td>\n",
       "      <td>202.2</td>\n",
       "      <td>172.8</td>\n",
       "    </tr>\n",
       "    <tr>\n",
       "      <th>167</th>\n",
       "      <td>Brazil</td>\n",
       "      <td>2021</td>\n",
       "      <td>227.2</td>\n",
       "      <td>187.1</td>\n",
       "    </tr>\n",
       "  </tbody>\n",
       "</table>\n",
       "</div>"
      ],
      "text/plain": [
       "    Country  Year  Consumer price index: Food  Consumer price index: General\n",
       "161  Brazil  2000                         NaN                           52.5\n",
       "162  Brazil  2005                         NaN                           79.5\n",
       "163  Brazil  2010                       100.0                          100.0\n",
       "164  Brazil  2015                       154.4                          138.4\n",
       "165  Brazil  2019                       185.4                          167.4\n",
       "166  Brazil  2020                       202.2                          172.8\n",
       "167  Brazil  2021                       227.2                          187.1"
      ]
     },
     "execution_count": 273,
     "metadata": {},
     "output_type": "execute_result"
    }
   ],
   "source": [
    "#Testing:\n",
    "df = read_file('consumer_price_index')\n",
    "df[ df['Country']=='Brazil' ]"
   ]
  },
  {
   "cell_type": "code",
   "execution_count": 274,
   "metadata": {},
   "outputs": [
    {
     "name": "stdout",
     "output_type": "stream",
     "text": [
      "Country                           object\n",
      "Year                               int64\n",
      "Consumer price index: Food       float64\n",
      "Consumer price index: General    float64\n",
      "dtype: object\n",
      "Country                                                     object\n",
      "Year                                                         int64\n",
      "Employment by industry: Agriculture (%) Female             float64\n",
      "Employment by industry: Agriculture (%) Male               float64\n",
      "Employment by industry: Agriculture (%) Male and Female    float64\n",
      "Employment by industry: Industry (%) Female                float64\n",
      "Employment by industry: Industry (%) Male                  float64\n",
      "Employment by industry: Industry (%) Male and Female       float64\n",
      "Employment by industry: Services (%) Female                float64\n",
      "Employment by industry: Services (%) Male                  float64\n",
      "Employment by industry: Services (%) Male and Female       float64\n",
      "dtype: object\n",
      "Country                                                  object\n",
      "Year                                                      int64\n",
      "GDP in constant 2010 prices (millions of US dollars)    float64\n",
      "GDP in current prices (millions of US dollars)          float64\n",
      "GDP per capita (US dollars)                             float64\n",
      "GDP real rates of growth (percent)                      float64\n",
      "dtype: object\n",
      "Country                                                                                                    object\n",
      "Year                                                                                                        int64\n",
      "All staff compensation as % of total expenditure in public institutions (%)                               float64\n",
      "Basic access to computers by level of education: Lower secondary                                          float64\n",
      "Basic access to computers by level of education: Primary                                                  float64\n",
      "Basic access to computers by level of education: Upper secondary                                          float64\n",
      "Capital expenditure as % of total expenditure in public institutions (%)                                  float64\n",
      "Current expenditure other than staff compensation as % of total expenditure in public institutions (%)    float64\n",
      "Public expenditure on education (% of GDP)                                                                float64\n",
      "dtype: object\n",
      "Country                                                                              object\n",
      "Year                                                                                  int64\n",
      "R & D personnel: Other supporting staff - total (number in full-time equivalent)    float64\n",
      "R & D personnel: Other supporting staff - women (number in full-time equivalent)    float64\n",
      "R & D personnel: Researchers - total (number in full-time equivalent)               float64\n",
      "R & D personnel: Researchers - women (number in full-time equivalent)               float64\n",
      "R & D personnel: Technicians - total (number in full-time equivalent)               float64\n",
      "R & D personnel: Technicians - women (number in full-time equivalent)               float64\n",
      "R & D personnel: Total (number in full-time equivalent)                             float64\n",
      "dtype: object\n",
      "Country                                                        object\n",
      "Year                                                            int64\n",
      "Gross enrollment ratio - Primary (female)                     float64\n",
      "Gross enrollment ratio - Primary (male)                       float64\n",
      "Gross enrollment ratio - Secondary (female)                   float64\n",
      "Gross enrollment ratio - Secondary (male)                     float64\n",
      "Gross enrollment ratio - Upper secondary level (female)       float64\n",
      "Gross enrollment ratio - Upper secondary level (male)         float64\n",
      "Students enrolled in primary education (thousands)            float64\n",
      "Students enrolled in secondary education (thousands)          float64\n",
      "Students enrolled in upper secondary education (thousands)    float64\n",
      "dtype: object\n",
      "Country                                                                    object\n",
      "Year                                                                        int64\n",
      "Teachers at primary level (thousands)                                     float64\n",
      "Teachers at secondary level (thousands)                                   float64\n",
      "Teachers at upper secondary level (thousands)                             float64\n",
      "Teachers with minimum required qualifications at primary level            float64\n",
      "Teachers with minimum required qualifications at secondary level          float64\n",
      "Teachers with minimum required qualifications at upper secondary level    float64\n",
      "dtype: object\n",
      "Country                                                                object\n",
      "Year                                                                    int64\n",
      "Assault rate per 100,000 population                                   float64\n",
      "Intentional homicide rates per 100,000                                float64\n",
      "Kidnapping at the national level, rate per 100,000                    float64\n",
      "Percentage of male and female intentional homicide victims, Female    float64\n",
      "Percentage of male and female intentional homicide victims, Male      float64\n",
      "Robbery at the national level, rate per 100,000 population            float64\n",
      "Theft at the national level, rate per 100,000 population              float64\n",
      "Total Sexual Violence at the national level, rate per 100,000         float64\n",
      "dtype: object\n",
      "Country                                 object\n",
      "Year                                     int64\n",
      "Labour force participation - Female    float64\n",
      "Labour force participation - Male      float64\n",
      "Labour force participation - Total     float64\n",
      "Unemployment rate - Female             float64\n",
      "Unemployment rate - Male               float64\n",
      "Unemployment rate - Total              float64\n",
      "dtype: object\n"
     ]
    }
   ],
   "source": [
    "for i in FILEPATHS:\n",
    "    print(read_file(i).dtypes)"
   ]
  }
 ],
 "metadata": {
  "kernelspec": {
   "display_name": "Python 3",
   "language": "python",
   "name": "python3"
  },
  "language_info": {
   "codemirror_mode": {
    "name": "ipython",
    "version": 3
   },
   "file_extension": ".py",
   "mimetype": "text/x-python",
   "name": "python",
   "nbconvert_exporter": "python",
   "pygments_lexer": "ipython3",
   "version": "3.10.10"
  },
  "orig_nbformat": 4
 },
 "nbformat": 4,
 "nbformat_minor": 2
}
